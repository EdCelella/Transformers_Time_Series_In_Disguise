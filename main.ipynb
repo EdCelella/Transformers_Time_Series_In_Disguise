{
 "cells": [
  {
   "cell_type": "code",
   "execution_count": null,
   "metadata": {
    "colab": {
     "base_uri": "https://localhost:8080/",
     "height": 34
    },
    "colab_type": "code",
    "id": "r8O_l9rw99Xz",
    "outputId": "40028df4-3170-4941-970b-1cb8b154c243"
   },
   "outputs": [],
   "source": [
    "# from google.colab import drive\n",
    "# drive.mount('/content/drive')"
   ]
  },
  {
   "cell_type": "markdown",
   "metadata": {
    "colab_type": "text",
    "id": "eQ-Jlemt91O4"
   },
   "source": [
    "## Imports"
   ]
  },
  {
   "cell_type": "code",
   "execution_count": null,
   "metadata": {
    "colab": {},
    "colab_type": "code",
    "id": "tQEXmkYd91O6"
   },
   "outputs": [],
   "source": [
    "# import sys\n",
    "# sys.path.append('/content/drive/My Drive/emc918/Code/')\n",
    "\n",
    "from Transformer.transformer import Transformer, Optimiser\n",
    "from Transformer.output_layers import Regression_Output, Classification_Output\n",
    "from Data.preprocessing import read_file, calc_moving_average, load_data, save_data, \\\n",
    "    get_raw_dataset, get_ma_dataset, prod_class, split_data\n",
    "from Data.chart_patterns import plot_price, plot_peaks, get_peaks, head_shoulders, \\\n",
    "    inv_head_shoulders, broad_top, broad_bottom, triangle_top, triangle_bottom, get_cp_dataset\n",
    "from rnn import RNN\n",
    "import os\n",
    "import torch\n",
    "import numpy as np\n",
    "import matplotlib.pyplot as plt"
   ]
  },
  {
   "cell_type": "markdown",
   "metadata": {
    "colab_type": "text",
    "id": "_PgVqnHT91PE"
   },
   "source": [
    "## Load Dataset"
   ]
  },
  {
   "cell_type": "code",
   "execution_count": null,
   "metadata": {},
   "outputs": [],
   "source": [
    "filename = \"Data/S&P_500.csv\"\n",
    "# filename = \"Data/DJIA.csv\"\n",
    "\n",
    "# filename = \"/content/drive/My Drive/emc918/Code/Data/S&P_500.csv\"\n",
    "# filename = \"/content/drive/My Drive/emc918/Code/Data/DJIA.csv\""
   ]
  },
  {
   "cell_type": "markdown",
   "metadata": {},
   "source": [
    "### Regression Datasets"
   ]
  },
  {
   "cell_type": "code",
   "execution_count": null,
   "metadata": {},
   "outputs": [],
   "source": [
    "# RAW prices\n",
    "training_set, test_set = get_raw_dataset(filename)\n",
    "d_model = 4\n",
    "len_seq = 5\n",
    "h = 4"
   ]
  },
  {
   "cell_type": "code",
   "execution_count": null,
   "metadata": {},
   "outputs": [],
   "source": [
    "# MA prices\n",
    "training_set, test_set = get_ma_dataset(filename)\n",
    "d_model = 6\n",
    "len_seq = 5\n",
    "h = 6"
   ]
  },
  {
   "cell_type": "markdown",
   "metadata": {},
   "source": [
    "### Classification Datasets"
   ]
  },
  {
   "cell_type": "code",
   "execution_count": null,
   "metadata": {},
   "outputs": [],
   "source": [
    "# MA prices\n",
    "training_set, test_set = get_ma_dataset(filename)\n",
    "training_set = prod_class(training_set)\n",
    "test_set = prod_class(test_set, 0)\n",
    "d_model = 6\n",
    "len_seq = 5\n",
    "h = 6"
   ]
  },
  {
   "cell_type": "code",
   "execution_count": null,
   "metadata": {},
   "outputs": [],
   "source": [
    "# Chart Patterns\n",
    "\n",
    "df = read_file(filename)['Close']\n",
    "training_set, test_set = split_data(df, 0.2)\n",
    "test_set, val_set = split_data(test_set, 0.5)\n",
    "\n",
    "training_set = get_cp_dataset(training_set)\n",
    "test_set = get_cp_dataset(test_set)\n",
    "val_set = get_cp_dataset(val_set)\n",
    "\n",
    "d_model = 8\n",
    "len_seq = 10\n",
    "h = 8"
   ]
  },
  {
   "cell_type": "markdown",
   "metadata": {},
   "source": [
    "### Prepare Set"
   ]
  },
  {
   "cell_type": "code",
   "execution_count": null,
   "metadata": {},
   "outputs": [],
   "source": [
    "if torch.cuda.is_available():\n",
    "    device = \"cuda:0\"\n",
    "    for i in training_set:\n",
    "        i.move_to_device(device)\n",
    "    for i in test_set:\n",
    "        i.move_to_device(device)\n",
    "    print(\"Tensors moved to GPU.\")\n",
    "else:\n",
    "    device = \"cpu\""
   ]
  },
  {
   "cell_type": "code",
   "execution_count": null,
   "metadata": {},
   "outputs": [],
   "source": [
    "for b in test_set:\n",
    "    b.dec_inp = b.enc_inp\n",
    "\n",
    "val_set = test_set[-5:]\n",
    "test_set = test_set[:-5]"
   ]
  },
  {
   "cell_type": "markdown",
   "metadata": {
    "colab_type": "text",
    "id": "l6ArcseB91PS"
   },
   "source": [
    "## Transformer"
   ]
  },
  {
   "cell_type": "code",
   "execution_count": null,
   "metadata": {
    "colab": {},
    "colab_type": "code",
    "id": "Lq9ZMZB391PS"
   },
   "outputs": [],
   "source": [
    "N = 2\n",
    "epochs = 50"
   ]
  },
  {
   "cell_type": "code",
   "execution_count": null,
   "metadata": {},
   "outputs": [],
   "source": [
    "# Regression Model\n",
    "Output_layer = Regression_Output(d_model)\n",
    "model = Transformer(d_model, len_seq, embed_req=False, N=N, h=h, output_layer=Output_layer)\n",
    "model.double()"
   ]
  },
  {
   "cell_type": "code",
   "execution_count": null,
   "metadata": {
    "colab": {
     "base_uri": "https://localhost:8080/",
     "height": 34
    },
    "colab_type": "code",
    "id": "BXCAyL8R91PW",
    "outputId": "761ff723-2942-46de-c75a-b4bb987fa52d"
   },
   "outputs": [],
   "source": [
    "# Classification Model\n",
    "Output_layer = Classification_Output(d_model)\n",
    "model = Transformer(d_model, len_seq, embed_req=False, N=N, h=h, output_layer=Output_layer, c=True)\n",
    "model.double()"
   ]
  },
  {
   "cell_type": "code",
   "execution_count": null,
   "metadata": {},
   "outputs": [],
   "source": [
    "if torch.cuda.is_available():\n",
    "    model.to(torch.device(device))\n",
    "    print(\"Model moved to GPU.\")"
   ]
  },
  {
   "cell_type": "markdown",
   "metadata": {
    "colab_type": "text",
    "id": "f3-BLgoO91Pa"
   },
   "source": [
    "### Training"
   ]
  },
  {
   "cell_type": "code",
   "execution_count": null,
   "metadata": {
    "colab": {
     "base_uri": "https://localhost:8080/",
     "height": 1000
    },
    "colab_type": "code",
    "id": "ve75TFqU91Pa",
    "outputId": "b794fe85-eb78-4817-810c-3701ec3c3130",
    "scrolled": true
   },
   "outputs": [],
   "source": [
    "loss, outputs, loss_test, outputs_test = [], [], [], []\n",
    "for epoch in range(epochs):\n",
    "    temp, temp2 = model.run_epoch(training_set)\n",
    "    loss.append(temp)\n",
    "    outputs.append(temp2)\n",
    "    temp, temp2 = model.run_epoch(test_set, training=False)\n",
    "    loss_test.append(temp)\n",
    "    outputs_test.append(temp2)\n",
    "\n",
    "validation_score, out = model.run_epoch(val_set, training=False)\n",
    "print(\"VALIDATION ACHIEVED: \", validation_score)"
   ]
  },
  {
   "cell_type": "code",
   "execution_count": null,
   "metadata": {
    "colab": {
     "base_uri": "https://localhost:8080/",
     "height": 513
    },
    "colab_type": "code",
    "id": "YGJGDxki91Pe",
    "outputId": "ca75b9cf-dd3e-4d48-cd9f-ced954e5ee67"
   },
   "outputs": [],
   "source": [
    "x = np.arange(1, epochs+1)\n",
    "\n",
    "plt.plot(x[1:],loss[1:])\n",
    "plt.show()\n",
    "plt.plot(x[1:],loss_test[1:])\n",
    "plt.show()"
   ]
  },
  {
   "cell_type": "markdown",
   "metadata": {},
   "source": [
    "## Baseline Model"
   ]
  },
  {
   "cell_type": "code",
   "execution_count": null,
   "metadata": {},
   "outputs": [],
   "source": [
    "epochs = 50"
   ]
  },
  {
   "cell_type": "code",
   "execution_count": null,
   "metadata": {},
   "outputs": [],
   "source": [
    "# Regression Model\n",
    "baseline = RNN(d_model, d_model)"
   ]
  },
  {
   "cell_type": "code",
   "execution_count": null,
   "metadata": {},
   "outputs": [],
   "source": [
    "# Classification Model\n",
    "baseline = RNN(d_model, 3)"
   ]
  },
  {
   "cell_type": "code",
   "execution_count": null,
   "metadata": {},
   "outputs": [],
   "source": [
    "device = \"cpu\"\n",
    "if torch.cuda.is_available():\n",
    "    device = \"cuda:0\"\n",
    "    baseline.to(torch.device(device))\n",
    "    print(\"Model moved to GPU.\")"
   ]
  },
  {
   "cell_type": "markdown",
   "metadata": {},
   "source": [
    "### Training"
   ]
  },
  {
   "cell_type": "code",
   "execution_count": null,
   "metadata": {
    "scrolled": true
   },
   "outputs": [],
   "source": [
    "loss, outputs, loss_test, outputs_test = [], [], [], []\n",
    "for epoch in range(epochs):\n",
    "    temp, temp2 = baseline.run_epoch(training_set)\n",
    "    loss.append(temp)\n",
    "    outputs.append(temp2)\n",
    "    temp, temp2 = baseline.run_epoch(test_set, training=False)\n",
    "    loss_test.append(temp)\n",
    "    outputs_test.append(temp2)\n",
    "\n",
    "validation_score, out = baseline.run_epoch(val_set, training=False)\n",
    "print(\"VALIDATION ACHIEVED: \", validation_score)"
   ]
  }
 ],
 "metadata": {
  "accelerator": "GPU",
  "colab": {
   "collapsed_sections": [],
   "name": "main.ipynb",
   "provenance": []
  },
  "kernelspec": {
   "display_name": "Python 3",
   "language": "python",
   "name": "python3"
  },
  "language_info": {
   "codemirror_mode": {
    "name": "ipython",
    "version": 3
   },
   "file_extension": ".py",
   "mimetype": "text/x-python",
   "name": "python",
   "nbconvert_exporter": "python",
   "pygments_lexer": "ipython3",
   "version": "3.7.8"
  }
 },
 "nbformat": 4,
 "nbformat_minor": 1
}
